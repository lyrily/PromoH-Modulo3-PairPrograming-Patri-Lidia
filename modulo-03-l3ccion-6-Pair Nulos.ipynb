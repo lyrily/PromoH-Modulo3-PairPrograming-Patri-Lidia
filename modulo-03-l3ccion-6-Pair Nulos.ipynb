{
 "cells": [
  {
   "cell_type": "code",
   "execution_count": 32,
   "metadata": {},
   "outputs": [],
   "source": [
    "import pandas as pd\n",
    "import numpy as np\n",
    "from sklearn.impute import SimpleImputer\n",
    "from sklearn.experimental import enable_iterative_imputer\n",
    "from sklearn.impute import IterativeImputer\n",
    "from sklearn.impute import KNNImputer\n",
    "import seaborn as sns\n",
    "import matplotlib.pyplot as plt\n",
    "pd.set_option('display.max_columns', None) "
   ]
  },
  {
   "cell_type": "code",
   "execution_count": 33,
   "metadata": {},
   "outputs": [
    {
     "data": {
      "text/html": [
       "<div>\n",
       "<style scoped>\n",
       "    .dataframe tbody tr th:only-of-type {\n",
       "        vertical-align: middle;\n",
       "    }\n",
       "\n",
       "    .dataframe tbody tr th {\n",
       "        vertical-align: top;\n",
       "    }\n",
       "\n",
       "    .dataframe thead th {\n",
       "        text-align: right;\n",
       "    }\n",
       "</style>\n",
       "<table border=\"1\" class=\"dataframe\">\n",
       "  <thead>\n",
       "    <tr style=\"text-align: right;\">\n",
       "      <th></th>\n",
       "      <th>Country</th>\n",
       "      <th>Density\\n(P/Km2)</th>\n",
       "      <th>Abbreviation</th>\n",
       "      <th>Agricultural Land( %)</th>\n",
       "      <th>Land Area(Km2)</th>\n",
       "      <th>Armed Forces size</th>\n",
       "      <th>Birth Rate</th>\n",
       "      <th>Calling Code</th>\n",
       "      <th>Capital/Major City</th>\n",
       "      <th>Co2-Emissions</th>\n",
       "      <th>CPI</th>\n",
       "      <th>CPI Change (%)</th>\n",
       "      <th>Currency-Code</th>\n",
       "      <th>Fertility Rate</th>\n",
       "      <th>Forested Area (%)</th>\n",
       "      <th>Gasoline Price</th>\n",
       "    </tr>\n",
       "  </thead>\n",
       "  <tbody>\n",
       "    <tr>\n",
       "      <th>0</th>\n",
       "      <td>Afghanistan</td>\n",
       "      <td>60</td>\n",
       "      <td>AF</td>\n",
       "      <td>58.10%</td>\n",
       "      <td>652,230</td>\n",
       "      <td>323,000</td>\n",
       "      <td>32.49</td>\n",
       "      <td>93.0</td>\n",
       "      <td>Kabul</td>\n",
       "      <td>8,672</td>\n",
       "      <td>149.9</td>\n",
       "      <td>2.30%</td>\n",
       "      <td>AFN</td>\n",
       "      <td>4.47</td>\n",
       "      <td>2.10%</td>\n",
       "      <td>$0.70</td>\n",
       "    </tr>\n",
       "    <tr>\n",
       "      <th>1</th>\n",
       "      <td>Albania</td>\n",
       "      <td>105</td>\n",
       "      <td>AL</td>\n",
       "      <td>43.10%</td>\n",
       "      <td>28,748</td>\n",
       "      <td>9,000</td>\n",
       "      <td>11.78</td>\n",
       "      <td>355.0</td>\n",
       "      <td>Tirana</td>\n",
       "      <td>4,536</td>\n",
       "      <td>119.05</td>\n",
       "      <td>1.40%</td>\n",
       "      <td>ALL</td>\n",
       "      <td>1.62</td>\n",
       "      <td>28.10%</td>\n",
       "      <td>$1.36</td>\n",
       "    </tr>\n",
       "    <tr>\n",
       "      <th>2</th>\n",
       "      <td>Algeria</td>\n",
       "      <td>18</td>\n",
       "      <td>DZ</td>\n",
       "      <td>17.40%</td>\n",
       "      <td>2,381,741</td>\n",
       "      <td>317,000</td>\n",
       "      <td>24.28</td>\n",
       "      <td>213.0</td>\n",
       "      <td>Algiers</td>\n",
       "      <td>150,006</td>\n",
       "      <td>151.36</td>\n",
       "      <td>2.00%</td>\n",
       "      <td>DZD</td>\n",
       "      <td>3.02</td>\n",
       "      <td>0.80%</td>\n",
       "      <td>$0.28</td>\n",
       "    </tr>\n",
       "    <tr>\n",
       "      <th>3</th>\n",
       "      <td>Andorra</td>\n",
       "      <td>164</td>\n",
       "      <td>AD</td>\n",
       "      <td>40.00%</td>\n",
       "      <td>468</td>\n",
       "      <td>NaN</td>\n",
       "      <td>7.20</td>\n",
       "      <td>376.0</td>\n",
       "      <td>Andorra la Vella</td>\n",
       "      <td>469</td>\n",
       "      <td>NaN</td>\n",
       "      <td>NaN</td>\n",
       "      <td>EUR</td>\n",
       "      <td>1.27</td>\n",
       "      <td>34.00%</td>\n",
       "      <td>$1.51</td>\n",
       "    </tr>\n",
       "    <tr>\n",
       "      <th>4</th>\n",
       "      <td>Angola</td>\n",
       "      <td>26</td>\n",
       "      <td>AO</td>\n",
       "      <td>47.50%</td>\n",
       "      <td>1,246,700</td>\n",
       "      <td>117,000</td>\n",
       "      <td>40.73</td>\n",
       "      <td>244.0</td>\n",
       "      <td>Luanda</td>\n",
       "      <td>34,693</td>\n",
       "      <td>261.73</td>\n",
       "      <td>17.10%</td>\n",
       "      <td>AOA</td>\n",
       "      <td>5.52</td>\n",
       "      <td>46.30%</td>\n",
       "      <td>$0.97</td>\n",
       "    </tr>\n",
       "    <tr>\n",
       "      <th>...</th>\n",
       "      <td>...</td>\n",
       "      <td>...</td>\n",
       "      <td>...</td>\n",
       "      <td>...</td>\n",
       "      <td>...</td>\n",
       "      <td>...</td>\n",
       "      <td>...</td>\n",
       "      <td>...</td>\n",
       "      <td>...</td>\n",
       "      <td>...</td>\n",
       "      <td>...</td>\n",
       "      <td>...</td>\n",
       "      <td>...</td>\n",
       "      <td>...</td>\n",
       "      <td>...</td>\n",
       "      <td>...</td>\n",
       "    </tr>\n",
       "    <tr>\n",
       "      <th>190</th>\n",
       "      <td>Venezuela</td>\n",
       "      <td>32</td>\n",
       "      <td>VE</td>\n",
       "      <td>24.50%</td>\n",
       "      <td>912,050</td>\n",
       "      <td>343,000</td>\n",
       "      <td>17.88</td>\n",
       "      <td>58.0</td>\n",
       "      <td>Caracas</td>\n",
       "      <td>164,175</td>\n",
       "      <td>2,740.27</td>\n",
       "      <td>254.90%</td>\n",
       "      <td>VED</td>\n",
       "      <td>2.27</td>\n",
       "      <td>52.70%</td>\n",
       "      <td>$0.00</td>\n",
       "    </tr>\n",
       "    <tr>\n",
       "      <th>191</th>\n",
       "      <td>Vietnam</td>\n",
       "      <td>314</td>\n",
       "      <td>VN</td>\n",
       "      <td>39.30%</td>\n",
       "      <td>331,210</td>\n",
       "      <td>522,000</td>\n",
       "      <td>16.75</td>\n",
       "      <td>84.0</td>\n",
       "      <td>Hanoi</td>\n",
       "      <td>192,668</td>\n",
       "      <td>163.52</td>\n",
       "      <td>2.80%</td>\n",
       "      <td>VND</td>\n",
       "      <td>2.05</td>\n",
       "      <td>48.10%</td>\n",
       "      <td>$0.80</td>\n",
       "    </tr>\n",
       "    <tr>\n",
       "      <th>192</th>\n",
       "      <td>Yemen</td>\n",
       "      <td>56</td>\n",
       "      <td>YE</td>\n",
       "      <td>44.60%</td>\n",
       "      <td>527,968</td>\n",
       "      <td>40,000</td>\n",
       "      <td>30.45</td>\n",
       "      <td>967.0</td>\n",
       "      <td>Sanaa</td>\n",
       "      <td>10,609</td>\n",
       "      <td>157.58</td>\n",
       "      <td>8.10%</td>\n",
       "      <td>YER</td>\n",
       "      <td>3.79</td>\n",
       "      <td>1.00%</td>\n",
       "      <td>$0.92</td>\n",
       "    </tr>\n",
       "    <tr>\n",
       "      <th>193</th>\n",
       "      <td>Zambia</td>\n",
       "      <td>25</td>\n",
       "      <td>ZM</td>\n",
       "      <td>32.10%</td>\n",
       "      <td>752,618</td>\n",
       "      <td>16,000</td>\n",
       "      <td>36.19</td>\n",
       "      <td>260.0</td>\n",
       "      <td>Lusaka</td>\n",
       "      <td>5,141</td>\n",
       "      <td>212.31</td>\n",
       "      <td>9.20%</td>\n",
       "      <td>ZMW</td>\n",
       "      <td>4.63</td>\n",
       "      <td>65.20%</td>\n",
       "      <td>$1.40</td>\n",
       "    </tr>\n",
       "    <tr>\n",
       "      <th>194</th>\n",
       "      <td>Zimbabwe</td>\n",
       "      <td>38</td>\n",
       "      <td>ZW</td>\n",
       "      <td>41.90%</td>\n",
       "      <td>390,757</td>\n",
       "      <td>51,000</td>\n",
       "      <td>30.68</td>\n",
       "      <td>263.0</td>\n",
       "      <td>Harare</td>\n",
       "      <td>10,983</td>\n",
       "      <td>105.51</td>\n",
       "      <td>0.90%</td>\n",
       "      <td>NaN</td>\n",
       "      <td>3.62</td>\n",
       "      <td>35.50%</td>\n",
       "      <td>$1.34</td>\n",
       "    </tr>\n",
       "  </tbody>\n",
       "</table>\n",
       "<p>195 rows × 16 columns</p>\n",
       "</div>"
      ],
      "text/plain": [
       "         Country Density\\n(P/Km2) Abbreviation Agricultural Land( %)  \\\n",
       "0    Afghanistan               60           AF                58.10%   \n",
       "1        Albania              105           AL                43.10%   \n",
       "2        Algeria               18           DZ                17.40%   \n",
       "3        Andorra              164           AD                40.00%   \n",
       "4         Angola               26           AO                47.50%   \n",
       "..           ...              ...          ...                   ...   \n",
       "190    Venezuela               32           VE                24.50%   \n",
       "191      Vietnam              314           VN                39.30%   \n",
       "192        Yemen               56           YE                44.60%   \n",
       "193       Zambia               25           ZM                32.10%   \n",
       "194     Zimbabwe               38           ZW                41.90%   \n",
       "\n",
       "    Land Area(Km2) Armed Forces size  Birth Rate  Calling Code  \\\n",
       "0          652,230           323,000       32.49          93.0   \n",
       "1           28,748             9,000       11.78         355.0   \n",
       "2        2,381,741           317,000       24.28         213.0   \n",
       "3              468               NaN        7.20         376.0   \n",
       "4        1,246,700           117,000       40.73         244.0   \n",
       "..             ...               ...         ...           ...   \n",
       "190        912,050           343,000       17.88          58.0   \n",
       "191        331,210           522,000       16.75          84.0   \n",
       "192        527,968            40,000       30.45         967.0   \n",
       "193        752,618            16,000       36.19         260.0   \n",
       "194        390,757            51,000       30.68         263.0   \n",
       "\n",
       "    Capital/Major City Co2-Emissions       CPI CPI Change (%) Currency-Code  \\\n",
       "0                Kabul         8,672     149.9          2.30%           AFN   \n",
       "1               Tirana         4,536    119.05          1.40%           ALL   \n",
       "2              Algiers       150,006    151.36          2.00%           DZD   \n",
       "3     Andorra la Vella           469       NaN            NaN           EUR   \n",
       "4               Luanda        34,693    261.73         17.10%           AOA   \n",
       "..                 ...           ...       ...            ...           ...   \n",
       "190            Caracas       164,175  2,740.27        254.90%           VED   \n",
       "191              Hanoi       192,668    163.52          2.80%           VND   \n",
       "192              Sanaa        10,609    157.58          8.10%           YER   \n",
       "193             Lusaka         5,141    212.31          9.20%           ZMW   \n",
       "194             Harare        10,983    105.51          0.90%           NaN   \n",
       "\n",
       "     Fertility Rate Forested Area (%) Gasoline Price  \n",
       "0              4.47             2.10%         $0.70   \n",
       "1              1.62            28.10%         $1.36   \n",
       "2              3.02             0.80%         $0.28   \n",
       "3              1.27            34.00%         $1.51   \n",
       "4              5.52            46.30%         $0.97   \n",
       "..              ...               ...            ...  \n",
       "190            2.27            52.70%         $0.00   \n",
       "191            2.05            48.10%         $0.80   \n",
       "192            3.79             1.00%         $0.92   \n",
       "193            4.63            65.20%         $1.40   \n",
       "194            3.62            35.50%         $1.34   \n",
       "\n",
       "[195 rows x 16 columns]"
      ]
     },
     "execution_count": 33,
     "metadata": {},
     "output_type": "execute_result"
    }
   ],
   "source": [
    "df = pd.read_csv(\"PairPrograming.csv\", index_col = 0)\n",
    "df"
   ]
  },
  {
   "cell_type": "markdown",
   "metadata": {},
   "source": [
    "\n",
    "1. Identificación de Valores Nulos: Identifica todas las columnas que contengan valores nulos en el DataFrame.\n",
    "\n",
    "2. Selección de Método de Imputación: Discute en tu compañera cuál sería la mejor estrategia para manejar los valores nulos en cada una de las columnas identificadas en el paso anterior.\n",
    "\n",
    "3. Imputación de Valores Nulos: Implementa el método de imputación seleccionado en el paso 2 para llenar los valores nulos en las columnas.\n",
    "\n",
    "Informe: Añade al final de un jupyter una explicación breve que describa las columnas que tenían valores nulos, cómo decidiste imputarlos y cualquier observación adicional que consideres importante sobre el proceso de limpieza de datos."
   ]
  },
  {
   "cell_type": "code",
   "execution_count": 34,
   "metadata": {},
   "outputs": [
    {
     "name": "stdout",
     "output_type": "stream",
     "text": [
      "Las columnas categóricas que tienen nulos son : \n",
      " \n",
      "Index(['Abbreviation', 'Agricultural Land( %)', 'Land Area(Km2)',\n",
      "       'Armed Forces size', 'Capital/Major City', 'Co2-Emissions', 'CPI',\n",
      "       'CPI Change (%)', 'Currency-Code', 'Forested Area (%)',\n",
      "       'Gasoline Price'],\n",
      "      dtype='object')\n"
     ]
    }
   ],
   "source": [
    "cat_nulos = df[df.columns[df.isnull().any()]].select_dtypes(include = \"O\").columns\n",
    "print(\"Las columnas categóricas que tienen nulos son : \\n \")\n",
    "print(cat_nulos)"
   ]
  },
  {
   "cell_type": "code",
   "execution_count": 41,
   "metadata": {},
   "outputs": [
    {
     "name": "stdout",
     "output_type": "stream",
     "text": [
      "La distribución de las categorías para la columna ABBREVIATION\n"
     ]
    },
    {
     "data": {
      "text/plain": [
       "Abbreviation\n",
       "AF    5.128205\n",
       "PY    5.128205\n",
       "NE    5.128205\n",
       "NG    5.128205\n",
       "KP    5.128205\n",
       "        ...   \n",
       "GR    5.128205\n",
       "GD    5.128205\n",
       "GT    5.128205\n",
       "GN    5.128205\n",
       "ZW    5.128205\n",
       "Name: count, Length: 188, dtype: float64"
      ]
     },
     "metadata": {},
     "output_type": "display_data"
    },
    {
     "name": "stdout",
     "output_type": "stream",
     "text": [
      "........................\n",
      "La distribución de las categorías para la columna AGRICULTURAL LAND( %)\n"
     ]
    },
    {
     "data": {
      "text/plain": [
       "Agricultural Land( %)\n",
       "17.40%    15.384615\n",
       "39.30%    10.256410\n",
       "23.30%    10.256410\n",
       "73.40%    10.256410\n",
       "34.50%    10.256410\n",
       "            ...    \n",
       "58.00%     5.128205\n",
       "8.60%      5.128205\n",
       "66.80%     5.128205\n",
       "28.90%     5.128205\n",
       "41.90%     5.128205\n",
       "Name: count, Length: 168, dtype: float64"
      ]
     },
     "metadata": {},
     "output_type": "display_data"
    },
    {
     "name": "stdout",
     "output_type": "stream",
     "text": [
      "........................\n",
      "La distribución de las categorías para la columna LAND AREA(KM2)\n"
     ]
    },
    {
     "data": {
      "text/plain": [
       "Land Area(Km2)\n",
       "652,230      5.128205\n",
       "616          5.128205\n",
       "268,838      5.128205\n",
       "130,370      5.128205\n",
       "1,267,000    5.128205\n",
       "               ...   \n",
       "349          5.128205\n",
       "108,889      5.128205\n",
       "245,857      5.128205\n",
       "36,125       5.128205\n",
       "390,757      5.128205\n",
       "Name: count, Length: 194, dtype: float64"
      ]
     },
     "metadata": {},
     "output_type": "display_data"
    },
    {
     "name": "stdout",
     "output_type": "stream",
     "text": [
      "........................\n",
      "La distribución de las categorías para la columna ARMED FORCES SIZE\n"
     ]
    },
    {
     "data": {
      "text/plain": [
       "Armed Forces size\n",
       "2,000        35.897436\n",
       "1,000        30.769231\n",
       "16,000       25.641026\n",
       "9,000        25.641026\n",
       "4,000        25.641026\n",
       "               ...    \n",
       "3,031,000     5.128205\n",
       "43,000        5.128205\n",
       "146,000       5.128205\n",
       "180,000       5.128205\n",
       "51,000        5.128205\n",
       "Name: count, Length: 105, dtype: float64"
      ]
     },
     "metadata": {},
     "output_type": "display_data"
    },
    {
     "name": "stdout",
     "output_type": "stream",
     "text": [
      "........................\n",
      "La distribución de las categorías para la columna CAPITAL/MAJOR CITY\n"
     ]
    },
    {
     "data": {
      "text/plain": [
       "Capital/Major City\n",
       "Kabul                    5.128205\n",
       "Tirana                   5.128205\n",
       "Wellington               5.128205\n",
       "Managua                  5.128205\n",
       "Niamey                   5.128205\n",
       "                           ...   \n",
       "Athens                   5.128205\n",
       "St. George's, Grenada    5.128205\n",
       "Guatemala City           5.128205\n",
       "Conakry                  5.128205\n",
       "Harare                   5.128205\n",
       "Name: count, Length: 192, dtype: float64"
      ]
     },
     "metadata": {},
     "output_type": "display_data"
    },
    {
     "name": "stdout",
     "output_type": "stream",
     "text": [
      "........................\n",
      "La distribución de las categorías para la columna CO2-EMISSIONS\n"
     ]
    },
    {
     "data": {
      "text/plain": [
       "Co2-Emissions\n",
       "143       10.256410\n",
       "495       10.256410\n",
       "28,284    10.256410\n",
       "2,017     10.256410\n",
       "7,407      5.128205\n",
       "            ...    \n",
       "16,670     5.128205\n",
       "62,434     5.128205\n",
       "268        5.128205\n",
       "16,777     5.128205\n",
       "10,983     5.128205\n",
       "Name: count, Length: 184, dtype: float64"
      ]
     },
     "metadata": {},
     "output_type": "display_data"
    },
    {
     "name": "stdout",
     "output_type": "stream",
     "text": [
      "........................\n",
      "La distribución de las categorías para la columna CPI\n"
     ]
    },
    {
     "data": {
      "text/plain": [
       "CPI\n",
       "110.62    10.256410\n",
       "99.55     10.256410\n",
       "106.58    10.256410\n",
       "149.9      5.128205\n",
       "114.24     5.128205\n",
       "            ...    \n",
       "112.85     5.128205\n",
       "268.36     5.128205\n",
       "101.87     5.128205\n",
       "107.43     5.128205\n",
       "105.51     5.128205\n",
       "Name: count, Length: 175, dtype: float64"
      ]
     },
     "metadata": {},
     "output_type": "display_data"
    },
    {
     "name": "stdout",
     "output_type": "stream",
     "text": [
      "........................\n",
      "La distribución de las categorías para la columna CPI CHANGE (%)\n"
     ]
    },
    {
     "data": {
      "text/plain": [
       "CPI Change (%)\n",
       "2.80%     35.897436\n",
       "1.80%     35.897436\n",
       "2.60%     30.769231\n",
       "2.30%     25.641026\n",
       "0.80%     25.641026\n",
       "            ...    \n",
       "4.70%      5.128205\n",
       "23.60%     5.128205\n",
       "9.40%      5.128205\n",
       "-1.70%     5.128205\n",
       "8.10%      5.128205\n",
       "Name: count, Length: 86, dtype: float64"
      ]
     },
     "metadata": {},
     "output_type": "display_data"
    },
    {
     "name": "stdout",
     "output_type": "stream",
     "text": [
      "........................\n",
      "La distribución de las categorías para la columna CURRENCY-CODE\n"
     ]
    },
    {
     "data": {
      "text/plain": [
       "Currency-Code\n",
       "EUR    117.948718\n",
       "XOF     41.025641\n",
       "XCD     30.769231\n",
       "USD     30.769231\n",
       "XAF     25.641026\n",
       "          ...    \n",
       "GMD      5.128205\n",
       "FJD      5.128205\n",
       "ETB      5.128205\n",
       "ERN      5.128205\n",
       "ZMW      5.128205\n",
       "Name: count, Length: 133, dtype: float64"
      ]
     },
     "metadata": {},
     "output_type": "display_data"
    },
    {
     "name": "stdout",
     "output_type": "stream",
     "text": [
      "........................\n",
      "La distribución de las categorías para la columna FORESTED AREA (%)\n"
     ]
    },
    {
     "data": {
      "text/plain": [
       "Forested Area (%)\n",
       "43.10%    15.384615\n",
       "0.00%     15.384615\n",
       "33.20%    15.384615\n",
       "12.60%    15.384615\n",
       "32.70%    15.384615\n",
       "            ...    \n",
       "14.90%     5.128205\n",
       "55.50%     5.128205\n",
       "50.20%     5.128205\n",
       "41.70%     5.128205\n",
       "35.50%     5.128205\n",
       "Name: count, Length: 161, dtype: float64"
      ]
     },
     "metadata": {},
     "output_type": "display_data"
    },
    {
     "name": "stdout",
     "output_type": "stream",
     "text": [
      "........................\n",
      "La distribución de las categorías para la columna GASOLINE PRICE\n"
     ]
    },
    {
     "data": {
      "text/plain": [
       "Gasoline Price\n",
       "$0.71     30.769231\n",
       "$1.16     25.641026\n",
       "$0.92     25.641026\n",
       "$1.12     20.512821\n",
       "$0.98     20.512821\n",
       "            ...    \n",
       "$1.74      5.128205\n",
       "$1.19      5.128205\n",
       "$1.55      5.128205\n",
       "$0.43      5.128205\n",
       "$1.34      5.128205\n",
       "Name: count, Length: 101, dtype: float64"
      ]
     },
     "metadata": {},
     "output_type": "display_data"
    },
    {
     "name": "stdout",
     "output_type": "stream",
     "text": [
      "........................\n"
     ]
    }
   ],
   "source": [
    "for col in cat_nulos:\n",
    "    print(f\"La distribución de las categorías para la columna {col.upper()}\")\n",
    "    display(df[col].value_counts() / df.shape[0] * 1000) \n",
    "    print(\"........................\")"
   ]
  },
  {
   "cell_type": "code",
   "execution_count": null,
   "metadata": {},
   "outputs": [
    {
     "data": {
      "text/plain": [
       "Country                   0.000000\n",
       "Density\\n(P/Km2)          0.000000\n",
       "Abbreviation              3.589744\n",
       "Agricultural Land( %)     3.589744\n",
       "Land Area(Km2)            0.512821\n",
       "Armed Forces size        12.307692\n",
       "Birth Rate                3.076923\n",
       "Calling Code              0.512821\n",
       "Capital/Major City        1.538462\n",
       "Co2-Emissions             3.589744\n",
       "CPI                       8.717949\n",
       "CPI Change (%)            8.205128\n",
       "Currency-Code             7.692308\n",
       "Fertility Rate            3.589744\n",
       "Forested Area (%)         3.589744\n",
       "Gasoline Price           10.256410\n",
       "dtype: float64"
      ]
     },
     "execution_count": 4,
     "metadata": {},
     "output_type": "execute_result"
    }
   ],
   "source": [
    "cat_nulos = (df.isnull().sum() / df.shape[0]) * 100\n",
    "cat_nulos"
   ]
  },
  {
   "cell_type": "code",
   "execution_count": null,
   "metadata": {},
   "outputs": [
    {
     "data": {
      "text/html": [
       "<div>\n",
       "<style scoped>\n",
       "    .dataframe tbody tr th:only-of-type {\n",
       "        vertical-align: middle;\n",
       "    }\n",
       "\n",
       "    .dataframe tbody tr th {\n",
       "        vertical-align: top;\n",
       "    }\n",
       "\n",
       "    .dataframe thead th {\n",
       "        text-align: right;\n",
       "    }\n",
       "</style>\n",
       "<table border=\"1\" class=\"dataframe\">\n",
       "  <thead>\n",
       "    <tr style=\"text-align: right;\">\n",
       "      <th></th>\n",
       "      <th>%_nulos</th>\n",
       "    </tr>\n",
       "  </thead>\n",
       "  <tbody>\n",
       "    <tr>\n",
       "      <th>Abbreviation</th>\n",
       "      <td>3.589744</td>\n",
       "    </tr>\n",
       "    <tr>\n",
       "      <th>Agricultural Land( %)</th>\n",
       "      <td>3.589744</td>\n",
       "    </tr>\n",
       "    <tr>\n",
       "      <th>Land Area(Km2)</th>\n",
       "      <td>0.512821</td>\n",
       "    </tr>\n",
       "    <tr>\n",
       "      <th>Armed Forces size</th>\n",
       "      <td>12.307692</td>\n",
       "    </tr>\n",
       "    <tr>\n",
       "      <th>Birth Rate</th>\n",
       "      <td>3.076923</td>\n",
       "    </tr>\n",
       "    <tr>\n",
       "      <th>Calling Code</th>\n",
       "      <td>0.512821</td>\n",
       "    </tr>\n",
       "    <tr>\n",
       "      <th>Capital/Major City</th>\n",
       "      <td>1.538462</td>\n",
       "    </tr>\n",
       "    <tr>\n",
       "      <th>Co2-Emissions</th>\n",
       "      <td>3.589744</td>\n",
       "    </tr>\n",
       "    <tr>\n",
       "      <th>CPI</th>\n",
       "      <td>8.717949</td>\n",
       "    </tr>\n",
       "    <tr>\n",
       "      <th>CPI Change (%)</th>\n",
       "      <td>8.205128</td>\n",
       "    </tr>\n",
       "    <tr>\n",
       "      <th>Currency-Code</th>\n",
       "      <td>7.692308</td>\n",
       "    </tr>\n",
       "    <tr>\n",
       "      <th>Fertility Rate</th>\n",
       "      <td>3.589744</td>\n",
       "    </tr>\n",
       "    <tr>\n",
       "      <th>Forested Area (%)</th>\n",
       "      <td>3.589744</td>\n",
       "    </tr>\n",
       "    <tr>\n",
       "      <th>Gasoline Price</th>\n",
       "      <td>10.256410</td>\n",
       "    </tr>\n",
       "  </tbody>\n",
       "</table>\n",
       "</div>"
      ],
      "text/plain": [
       "                         %_nulos\n",
       "Abbreviation            3.589744\n",
       "Agricultural Land( %)   3.589744\n",
       "Land Area(Km2)          0.512821\n",
       "Armed Forces size      12.307692\n",
       "Birth Rate              3.076923\n",
       "Calling Code            0.512821\n",
       "Capital/Major City      1.538462\n",
       "Co2-Emissions           3.589744\n",
       "CPI                     8.717949\n",
       "CPI Change (%)          8.205128\n",
       "Currency-Code           7.692308\n",
       "Fertility Rate          3.589744\n",
       "Forested Area (%)       3.589744\n",
       "Gasoline Price         10.256410"
      ]
     },
     "execution_count": 11,
     "metadata": {},
     "output_type": "execute_result"
    }
   ],
   "source": [
    "df_nulos_cat = pd.DataFrame(cat_nulos, columns = [\"%_nulos\"])\n",
    "\n",
    "df_nulos_cat[df_nulos_cat[\"%_nulos\"] > 0]"
   ]
  },
  {
   "cell_type": "code",
   "execution_count": null,
   "metadata": {},
   "outputs": [
    {
     "data": {
      "text/html": [
       "<div>\n",
       "<style scoped>\n",
       "    .dataframe tbody tr th:only-of-type {\n",
       "        vertical-align: middle;\n",
       "    }\n",
       "\n",
       "    .dataframe tbody tr th {\n",
       "        vertical-align: top;\n",
       "    }\n",
       "\n",
       "    .dataframe thead th {\n",
       "        text-align: right;\n",
       "    }\n",
       "</style>\n",
       "<table border=\"1\" class=\"dataframe\">\n",
       "  <thead>\n",
       "    <tr style=\"text-align: right;\">\n",
       "      <th></th>\n",
       "      <th>%_nulos</th>\n",
       "    </tr>\n",
       "  </thead>\n",
       "  <tbody>\n",
       "    <tr>\n",
       "      <th>count</th>\n",
       "      <td>16.000000</td>\n",
       "    </tr>\n",
       "    <tr>\n",
       "      <th>mean</th>\n",
       "      <td>4.423077</td>\n",
       "    </tr>\n",
       "    <tr>\n",
       "      <th>std</th>\n",
       "      <td>3.855260</td>\n",
       "    </tr>\n",
       "    <tr>\n",
       "      <th>min</th>\n",
       "      <td>0.000000</td>\n",
       "    </tr>\n",
       "    <tr>\n",
       "      <th>25%</th>\n",
       "      <td>1.282051</td>\n",
       "    </tr>\n",
       "    <tr>\n",
       "      <th>50%</th>\n",
       "      <td>3.589744</td>\n",
       "    </tr>\n",
       "    <tr>\n",
       "      <th>75%</th>\n",
       "      <td>7.820513</td>\n",
       "    </tr>\n",
       "    <tr>\n",
       "      <th>max</th>\n",
       "      <td>12.307692</td>\n",
       "    </tr>\n",
       "  </tbody>\n",
       "</table>\n",
       "</div>"
      ],
      "text/plain": [
       "         %_nulos\n",
       "count  16.000000\n",
       "mean    4.423077\n",
       "std     3.855260\n",
       "min     0.000000\n",
       "25%     1.282051\n",
       "50%     3.589744\n",
       "75%     7.820513\n",
       "max    12.307692"
      ]
     },
     "execution_count": 17,
     "metadata": {},
     "output_type": "execute_result"
    }
   ],
   "source": [
    "df_nulos_cat.describe()"
   ]
  },
  {
   "cell_type": "code",
   "execution_count": null,
   "metadata": {},
   "outputs": [],
   "source": []
  }
 ],
 "metadata": {
  "kernelspec": {
   "display_name": "base",
   "language": "python",
   "name": "python3"
  },
  "language_info": {
   "codemirror_mode": {
    "name": "ipython",
    "version": 3
   },
   "file_extension": ".py",
   "mimetype": "text/x-python",
   "name": "python",
   "nbconvert_exporter": "python",
   "pygments_lexer": "ipython3",
   "version": "3.11.8"
  }
 },
 "nbformat": 4,
 "nbformat_minor": 2
}
