{
 "cells": [
  {
   "cell_type": "code",
   "execution_count": 1,
   "metadata": {},
   "outputs": [],
   "source": [
    "import pandas as pd\n"
   ]
  },
  {
   "cell_type": "code",
   "execution_count": 4,
   "metadata": {},
   "outputs": [],
   "source": [
    "df=pd.read_csv(\"df_leccion4.csv\")"
   ]
  },
  {
   "cell_type": "code",
   "execution_count": 7,
   "metadata": {},
   "outputs": [],
   "source": [
    "#Las columnas land_area, armed_forces_size, co2-emissions, gdp, population, urban_population, latitude, longitude, density, \n",
    "#cpi son de tipo object pero en realidad deberían ser numéricas. \n",
    "#Crea una función que nos permita cambiar el tipo de dato de estas columnas al que le corresponde.\n",
    "def convertir_numerico(df,columnas):\n",
    "    for column in columnas:\n",
    "        df[column] = pd.to_numeric(df[column], errors='coerce')\n",
    "        return df\n",
    "\n",
    "\n",
    "columnas=[\"landarea\", \"armedforcessize\", \"co2-emissions\", \"gdp\", \"population\", \"urbanpopulation\", \"latitude\", \"longitude\", \"density\", \"cpi\"]\n",
    "df=convertir_numerico(df,columnas)\n",
    "\n"
   ]
  },
  {
   "cell_type": "code",
   "execution_count": 18,
   "metadata": {},
   "outputs": [
    {
     "data": {
      "text/plain": [
       "dtype('float64')"
      ]
     },
     "execution_count": 18,
     "metadata": {},
     "output_type": "execute_result"
    }
   ],
   "source": [
    "df[\"landarea\"].dtype"
   ]
  }
 ],
 "metadata": {
  "kernelspec": {
   "display_name": "Python 3",
   "language": "python",
   "name": "python3"
  },
  "language_info": {
   "codemirror_mode": {
    "name": "ipython",
    "version": 3
   },
   "file_extension": ".py",
   "mimetype": "text/x-python",
   "name": "python",
   "nbconvert_exporter": "python",
   "pygments_lexer": "ipython3",
   "version": "3.9.6"
  }
 },
 "nbformat": 4,
 "nbformat_minor": 2
}
